{
 "cells": [
  {
   "cell_type": "code",
   "execution_count": 9,
   "id": "d4106491",
   "metadata": {},
   "outputs": [
    {
     "name": "stdout",
     "output_type": "stream",
     "text": [
      "        Imie    Nazwisko  Wiek           Stanowisko  Zarobki  \\\n",
      "0     Alicja  Dolkiewicz  25.0             Referent     2050   \n",
      "9     Michał       Osłoń  56.0             Referent     2100   \n",
      "1     Tomasz    Babinicz  28.0          Specjalista     3890   \n",
      "7  Krzysztof       Milka  12.0          Specjalista     4000   \n",
      "6      Beata       Rodeń  28.0          Specjalista     4200   \n",
      "4    Wioleta     Drzazga  34.0          Specjalista     4250   \n",
      "5       Anna       Druch   0.0  Starszy specjalista     5000   \n",
      "8     Marcin       Rebik  34.0  Starszy specjalista     5500   \n",
      "2     Maciej      Treska  40.0  Starszy specjalista     6000   \n",
      "3     Maciej       Drozd  45.0          brak danych     3000   \n",
      "\n",
      "  Czy posiada uprawnienia kat. D  \n",
      "0                            tak  \n",
      "9                            tak  \n",
      "1                            nie  \n",
      "7                            nie  \n",
      "6                            tak  \n",
      "4                              0  \n",
      "5                            tak  \n",
      "8                            nie  \n",
      "2                              0  \n",
      "3                              0  \n",
      "<class 'pandas.core.frame.DataFrame'>\n",
      "Int64Index: 10 entries, 0 to 3\n",
      "Data columns (total 6 columns):\n",
      " #   Column                          Non-Null Count  Dtype  \n",
      "---  ------                          --------------  -----  \n",
      " 0   Imie                            10 non-null     object \n",
      " 1   Nazwisko                        10 non-null     object \n",
      " 2   Wiek                            10 non-null     float64\n",
      " 3   Stanowisko                      10 non-null     object \n",
      " 4   Zarobki                         10 non-null     int64  \n",
      " 5   Czy posiada uprawnienia kat. D  10 non-null     object \n",
      "dtypes: float64(1), int64(1), object(4)\n",
      "memory usage: 560.0+ bytes\n"
     ]
    }
   ],
   "source": [
    "import pandas as pd\n",
    "import numpy as np\n",
    "# read text file into pandas DataFrame\n",
    "df = pd.read_csv('data\\dane.txt', sep='\\t', encoding='utf8')\n",
    "# settings to display all columns, rows\n",
    "pd.set_option(\"display.max_columns\", None)\n",
    "pd.set_option('display.max_rows', None)\n",
    "#change using if data in column\n",
    "df.loc[(df['Czy posiada uprawnienia kat. D'] == 'nieprawda') , 'Czy posiada uprawnienia kat. D'] = 'nie'  \n",
    "df.loc[(df['Czy posiada uprawnienia kat. D'] == 'brak danych' ) , 'Czy posiada uprawnienia kat. D'] = np.nan\n",
    "\n",
    "# Apply the function to replace NaN to 0\n",
    "df = df.replace(np.nan, 0)\n",
    "# usuń wartości nieliczbowe w Wiek\n",
    "df['Wiek'] = pd.to_numeric(df['Wiek'], errors='coerce')\n",
    "\n",
    "# Apply the function to replace NaN to 0\n",
    "df = df.replace(np.nan, 0)\n",
    "\n",
    "df.loc[(df['Stanowisko'] == 0) , 'Stanowisko'] = 'brak danych'\n",
    "df= df.sort_values(by=['Stanowisko','Zarobki'])\n",
    "\n",
    "print(df)\n",
    "df.info()"
   ]
  },
  {
   "cell_type": "code",
   "execution_count": null,
   "id": "becb8279",
   "metadata": {},
   "outputs": [],
   "source": []
  }
 ],
 "metadata": {
  "kernelspec": {
   "display_name": "Python 3",
   "language": "python",
   "name": "python3"
  },
  "language_info": {
   "codemirror_mode": {
    "name": "ipython",
    "version": 3
   },
   "file_extension": ".py",
   "mimetype": "text/x-python",
   "name": "python",
   "nbconvert_exporter": "python",
   "pygments_lexer": "ipython3",
   "version": "3.8.8"
  }
 },
 "nbformat": 4,
 "nbformat_minor": 5
}
